{
 "metadata": {
  "name": "",
  "signature": "sha256:7edf5137bb8ebcb172e2f170c97fd37ecdfe658c72145d8b2f8ea84fec8baaa5"
 },
 "nbformat": 3,
 "nbformat_minor": 0,
 "worksheets": []
}